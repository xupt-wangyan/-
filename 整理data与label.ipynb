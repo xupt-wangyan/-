{
 "cells": [
  {
   "cell_type": "markdown",
   "id": "a4ce1efe",
   "metadata": {},
   "source": [
    "## 整理数据\n",
    "\n",
    "* 将数据写入对应的路径下。\n",
    "* 将对应的label写入对应的路径下。"
   ]
  },
  {
   "cell_type": "code",
   "execution_count": 7,
   "id": "6aa88600",
   "metadata": {},
   "outputs": [],
   "source": [
    "import os\n",
    "\n",
    "'''\n",
    "取得data下所有有效的image文件，并从隔壁路径中取出对应的label放入对应目录下。\n",
    "'''\n",
    "\n",
    "file_path = \".\\\\data\\\\\"\n",
    "copy_path = \".\\\\label\\\\\"\n",
    "copy_from_path=\"..\\\\data_start\\\\Annotations\\\\\"\n",
    "\n",
    "# 返回包含路径下所有文件名的列表\n",
    "def list_filenam(file_name):\n",
    "    for root, dirs, files in os.walk(file_name): \n",
    "        return [i[:-4] for i in  files ]\n",
    "# copy图像文件对应的label到对应目录下\n",
    "# 这里利用os模块的popen通过创建接受命令的管道，对文件对象进行操作。\n",
    "def copy_label_by_name(copy_from_path,copy_path,file_list): \n",
    "    for file_name in file_list:\n",
    "        commed = \"copy \"+\" \"+copy_from_path+file_name+\".xml\"+\" \"+copy_path+file_name+\".xml\"\n",
    "        print(commed)\n",
    "        os.popen(commed)\n",
    "\n",
    "# get file's names\n",
    "# file_list = list_filenam(file_path)\n",
    "# copy_label_by_name(copy_from_path,copy_path,file_list)"
   ]
  },
  {
   "cell_type": "markdown",
   "id": "13a245ba",
   "metadata": {},
   "source": [
    "# 整理数据第一批完整训练集与测试集"
   ]
  },
  {
   "cell_type": "code",
   "execution_count": 23,
   "id": "e76369c9",
   "metadata": {},
   "outputs": [],
   "source": [
    "import os\n",
    "import random as rd\n",
    "\n",
    "train_path = '.\\\\train\\\\'\n",
    "test_path = '.\\\\test\\\\'\n",
    "test_label_path = '.\\\\test_label\\\\'\n",
    "train_label_path = '.\\\\train_label\\\\'\n",
    "if not os.path.exists(train_path):\n",
    "    os.mkdir(train_path)\n",
    "if not os.path.exists(test_path):  \n",
    "    os.mkdir(test_path)\n",
    "if not os.path.exists(train_label_path):\n",
    "    os.mkdir(train_label_path)\n",
    "if not os.path.exists(test_label_path):  \n",
    "    os.mkdir(test_label_path)    "
   ]
  },
  {
   "cell_type": "code",
   "execution_count": 20,
   "id": "35ba937c",
   "metadata": {},
   "outputs": [],
   "source": [
    "file_list = list_filenam('.\\\\data\\\\')\n",
    "#print(file_list) 获取到对应file_list\n",
    "# 随机选取百分之三十数据作为测试集\n",
    "file_random_list_test = rd.choices(file_list,k=len(file_list)//3)\n",
    "# 其余作为训练集\n",
    "file_random_list_train = []\n",
    "\n",
    "for file_name in file_list:\n",
    "    if not file_name in file_random_list_test:\n",
    "        file_random_list_train.append(file_name)"
   ]
  },
  {
   "cell_type": "code",
   "execution_count": 21,
   "id": "bd25f8be",
   "metadata": {},
   "outputs": [],
   "source": [
    "for file_name in file_random_list_test:\n",
    "    commed = \"copy \"+\" \"+\".\\\\data\\\\\"+file_name+\".jpg\"+\" \"+\".\\\\test\\\\\"+file_name+\".jpg\"\n",
    "    os.popen(commed)"
   ]
  },
  {
   "cell_type": "code",
   "execution_count": 22,
   "id": "5a96cbe7",
   "metadata": {},
   "outputs": [],
   "source": [
    "for file_name in file_random_list_train:\n",
    "    commed = \"copy \"+\" \"+\".\\\\data\\\\\"+file_name+\".jpg\"+\" \"+\".\\\\train\\\\\"+file_name+\".jpg\"\n",
    "    os.popen(commed)"
   ]
  },
  {
   "cell_type": "code",
   "execution_count": 24,
   "id": "776aea67",
   "metadata": {},
   "outputs": [],
   "source": [
    "for file_name in file_random_list_test:\n",
    "    commed = \"copy \"+\" \"+\".\\\\label\\\\\"+file_name+\".xml\"+\" \"+\".\\\\test_label\\\\\"+file_name+\".xml\"\n",
    "    os.popen(commed)"
   ]
  },
  {
   "cell_type": "code",
   "execution_count": 25,
   "id": "1a8c144b",
   "metadata": {},
   "outputs": [],
   "source": [
    "for file_name in file_random_list_train:\n",
    "    commed = \"copy \"+\" \"+\".\\\\label\\\\\"+file_name+\".xml\"+\" \"+\".\\\\train_label\\\\\"+file_name+\".xml\"\n",
    "    os.popen(commed)"
   ]
  },
  {
   "cell_type": "code",
   "execution_count": null,
   "id": "117f03ab",
   "metadata": {},
   "outputs": [],
   "source": []
  }
 ],
 "metadata": {
  "kernelspec": {
   "display_name": "Python 3",
   "language": "python",
   "name": "python3"
  },
  "language_info": {
   "codemirror_mode": {
    "name": "ipython",
    "version": 3
   },
   "file_extension": ".py",
   "mimetype": "text/x-python",
   "name": "python",
   "nbconvert_exporter": "python",
   "pygments_lexer": "ipython3",
   "version": "3.8.8"
  }
 },
 "nbformat": 4,
 "nbformat_minor": 5
}
